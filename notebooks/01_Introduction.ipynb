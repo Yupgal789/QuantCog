{
 "cells": [
  {
   "cell_type": "markdown",
   "metadata": {
    "slideshow": {
     "slide_type": "slide"
    }
   },
   "source": [
    "# Introduction to Quantified Cognition\n",
    "## Psychology 5332 --- Spring 2021\n",
    "\n",
    "By: Per B. Sederberg, PhD\n",
    "\n",
    "![](http://compmem.org/assets/img/cmlab_logo.jpg)\n",
    "\n",
    "\n",
    "<a href=\"https://colab.research.google.com/github/compmem/QuantCog/blob/2021_Spring/notebooks/01_Introduction.ipynb\"><img align=\"left\" src=\"https://colab.research.google.com/assets/colab-badge.svg\" alt=\"Open in Colab\" title=\"Open and Execute in Google Colaboratory\"></a>\n",
    "\n"
   ]
  },
  {
   "cell_type": "markdown",
   "metadata": {
    "slideshow": {
     "slide_type": "slide"
    }
   },
   "source": [
    "## Quick Reference\n",
    "\n",
    "\n",
    "- *Credit*:    3 units\n",
    "\n",
    "- *Time*: Thursday, 14:00 -- 16:30\n",
    "\n",
    "- *Place*: Online\n",
    "\n",
    "- *Text*: Assigned readings\n",
    "\n",
    "- *Course Web Page*: GitHub (https://github.com/compmem/QuantCog)\n",
    "\n",
    "- *Instructor*: Dr. Per Sederberg\n",
    "\n",
    "- *Office*: Online\n",
    "\n",
    "- *E-mail*: pbs5u@virginia.edu (but use Slack whenever possible)\n",
    "\n",
    "- *Lab Website*: Computational Memory Lab (https://compmem.org)\n",
    "\n",
    "- *Office hours*: TBA\n",
    "\n",
    "- *Final*: Project-based\n"
   ]
  },
  {
   "cell_type": "markdown",
   "metadata": {
    "slideshow": {
     "slide_type": "slide"
    }
   },
   "source": [
    "## Online Course Expectations\n",
    "\n",
    "This course will be taking place entirely online with \"synchronous\" classes on Zoom. As much as possible, I hope we can make this feel like we are all in this together, meeting in the same room. As such, these are the primary guidelines and expectations for our Zoom meetings:\n",
    "\n",
    "- You should keep your video on unless a transient issue arises (e.g., there is something seriously distracting going on in the room.) \n",
    "- You can, however, keep your microphone muted when not talking.\n",
    "- Feel free to ask questions anytime! It's often hard for me to see everyone, so interjecting by voice is perfectly fine (i.e., you don't need to use the hand-raising feature in the Zoom chat.)\n",
    "- We will be recording the lessons, which will be made available *only* to those in the class via UVACollab. \n",
    "\n",
    "*If you have any concerns about any of these policies, please set up a meeting with me and I will do my best to accommodate your needs.*\n"
   ]
  },
  {
   "cell_type": "markdown",
   "metadata": {
    "slideshow": {
     "slide_type": "slide"
    }
   },
   "source": [
    "## Why are we here?\n",
    "\n",
    "Much of science, and especially psychology and neuroscience, involves testing and updating verbal theories, which are often imprecise and under-specified. \n",
    "\n",
    "Only by quantitative modeling of our experimental results can we hope to make significant progress in understanding the mechanisms that underlie cognition. \n",
    "\n",
    "Furthermore, only by quantifying and defining knowledge via mathematical principles can we achieve the effective interdisciplinary communication necessary for combining approaches to make useful progress towards understanding a system as complex as the brain. "
   ]
  },
  {
   "cell_type": "markdown",
   "metadata": {
    "slideshow": {
     "slide_type": "slide"
    }
   },
   "source": [
    "## Course Aims\n",
    "\n",
    "Equip students with the skills to:\n",
    "\n",
    "a. think more deeply about the mechanisms underlying observed neural and behavioral phenomena, improving scientific thinking, and\n",
    "\n",
    "b. develop computational models that enable more precise, quantifiably testable, hypotheses, improving the scientific process. \n",
    "\n",
    "While the course will be taught at a high level, the goal is to provide practical hands-on examples for every topic, to lay the foundation necessary to understand, develop, and compare mechanistic models of cognition."
   ]
  },
  {
   "cell_type": "markdown",
   "metadata": {
    "slideshow": {
     "slide_type": "slide"
    }
   },
   "source": [
    "## Computing Requirements\n",
    "\n",
    "- This is a computational class and all work will be performed on a computer, and almost entirely with the Python programming language within Jupyter notebooks. \n",
    "  - You will need to bring a laptop running Windows, OSX, or Linux to every class. \n",
    "\n",
    "- You will run the [Jupyter](https://jupyter.org) notebooks directly on your computer. This will also allow you to incorporate these approaches into your own research more easily. \n",
    "  - Thus, my recommendation is that you install and use the [Anaconda Python](https://www.anaconda.com/) distribution for your OS. \n",
    "\n",
    "- We will spend time on the first day of class to ensure everyone has a functioning computer that will be able to run everything necessary for the course.\n"
   ]
  },
  {
   "cell_type": "markdown",
   "metadata": {
    "slideshow": {
     "slide_type": "slide"
    }
   },
   "source": [
    "## Schedule\n",
    "\n",
    "The following is the general order of the topics covered in the course. Please note that sometimes we may cover multiple topics in a single lecture, or spend more than one lecture on a single topic, and this list is subject to modification at any time. These will be replaced by links to specific lectures as they are finalized.\n",
    "\n",
    "0. Overview\n",
    "1. Programming and Principles of Open Science\n",
    "2. Probability\n",
    "3. Data as a Random Variable\n",
    "4. Quantifying Uncertainty\n",
    "5. Bayesian Regression\n",
    "6. Bayesian Data Analysis\n",
    "7. Cognitive Process Models\n",
    "8. Interactive Model Exploration\n",
    "9. Bayesian Fits of Process Models\n",
    "10. Inference with Process Models\n",
    "11. Bring Your Own Data (BYOD) Project\n",
    "\n"
   ]
  },
  {
   "cell_type": "markdown",
   "metadata": {
    "slideshow": {
     "slide_type": "slide"
    }
   },
   "source": [
    "\n",
    "## Evaluation\n",
    "\n",
    "This is a graduate-level course, which means that much of the burden of staying motivated to learn is transferred to the student. As such, there will not be any in-class exams. Students will be evaluated on the basis of:\n",
    "\n",
    "- Lesson exercises / class participation (30 pts)\n",
    "- Two mini-projects (15 pts + 15 pts)\n",
    "- Final project (40 pts)\n",
    "\n",
    "for a total of 100 points. \n",
    "\n",
    "The course will be graded using the standard grading scale with your percentage of points earned out of the total possible points rounding to the nearest whole percentage point.\n"
   ]
  },
  {
   "cell_type": "markdown",
   "metadata": {
    "collapsed": true,
    "slideshow": {
     "slide_type": "slide"
    }
   },
   "source": [
    "## GitHub\n",
    "\n",
    "All course material will be available on a public [GitHub](https://github.com/compmem/QuantCog) repository. \n",
    "\n",
    "There you will find the current version of the syllabus, all Jupyter Notebooks for the lessons, and any associated readings.\n",
    "\n",
    "I encourage you all to sign up for a GitHub account and make use of [Git](https://git-scm.com/) in your research.\n",
    "\n",
    "If you are interested, the [Software Carpentry course on git](http://swcarpentry.github.io/git-novice/) provides a fantastic introduction to version control with Git. \n",
    "\n"
   ]
  },
  {
   "cell_type": "markdown",
   "metadata": {
    "slideshow": {
     "slide_type": "slide"
    }
   },
   "source": [
    "## Communications\n",
    "\n",
    "We will use [Slack](https://slack.com/) for all class communication and discussions. \n",
    "\n",
    "Please do not email me unless there is an issue with Slack. If you'd prefer to have a one-on-one discussion it is possible to send direct messages in Slack.\n",
    "\n",
    "There will also be traditional office hours for in-person conversations.\n",
    "\n",
    "***Look for an email after class inviting you to the Slack Workspace for the course!***\n"
   ]
  },
  {
   "cell_type": "markdown",
   "metadata": {
    "slideshow": {
     "slide_type": "slide"
    }
   },
   "source": [
    "# Let's get started!"
   ]
  },
  {
   "cell_type": "markdown",
   "metadata": {
    "slideshow": {
     "slide_type": "slide"
    }
   },
   "source": [
    "## Python for Data Science\n",
    "\n",
    "You should complete the introductory Python modules at [Software Carpentry](http://swcarpentry.github.io/python-novice-inflammation/) as a *homework* assignment. \n",
    "\n",
    "This is a hands-on tutorial that introduces a slew of concepts for Python in Data Science. \n",
    "\n",
    "### A great book\n",
    "\n",
    "Most of the [*Python Data Science Handbook*](https://jakevdp.github.io/PythonDataScienceHandbook/) by Jake VanderPlas is excellent and relevant for this course, especially the first *four* chapters.\n",
    "\n",
    "### An entire course\n",
    "\n",
    "Finally, if you are feeling extremely ambitious, there is an entire set of [Python for Data Science course material](https://data.berkeley.edu/education/courses/data-8) from the University of California at Berkeley."
   ]
  },
  {
   "cell_type": "markdown",
   "metadata": {
    "slideshow": {
     "slide_type": "slide"
    }
   },
   "source": [
    "## Jupyter Notebooks\n",
    "\n",
    "The core computational and interactive infrastructure for the entire class will be [Jupyter](https://jupyter.org) notebooks. They provide an interactive way of interspersing code, text, and graphics, akin to a dynamic electronic lab notebook. \n",
    "\n",
    "Jupyter notebooks are *VERY* powerful, and have many useful extensions (for example, this presentation is an live and editable rendering of a Jupyter notebook!)"
   ]
  },
  {
   "cell_type": "markdown",
   "metadata": {},
   "source": [
    "### A quick tour of Jupyter notebook features...\n",
    "\n",
    "- Client/Server architecture\n",
    "- Cells of code/text\n",
    "- HTML-based front-end\n",
    "- Cell output can be tables and (interactive) graphics"
   ]
  },
  {
   "cell_type": "markdown",
   "metadata": {
    "slideshow": {
     "slide_type": "slide"
    }
   },
   "source": [
    "Markdown cells can have fancy formatting:\n",
    "\n",
    "- Headings with #, ##, ###, etc...\n",
    "- *italics*\n",
    "- **bold**\n",
    "- Inline equations like $t_i = \\rho t_{i-1} + (1 - \\rho)f_i$\n",
    "- Or a full equation on its on line:\n",
    "\n",
    "  $$\\frac{dx}{dt} = \\frac{(\\rho - \\kappa x)}{\\tau}$$\n",
    "- Images:\n",
    "  ![](https://jupyter.org/assets/main-logo.svg)\n",
    "- Tables:\n",
    "\n",
    "| This | is   |\n",
    "|------|------|\n",
    "|   a  | table|"
   ]
  },
  {
   "cell_type": "code",
   "execution_count": null,
   "metadata": {
    "slideshow": {
     "slide_type": "slide"
    }
   },
   "outputs": [],
   "source": [
    "# Best practice is to put imports and settings at the top\n",
    "\n",
    "# load matplotlib in inline mode (you can use notebook if you are running local)\n",
    "%matplotlib inline\n",
    "\n",
    "# import some useful libraries\n",
    "import numpy as np                # numerical analysis linear algebra\n",
    "import pandas as pd               # efficient tables\n",
    "import matplotlib.pyplot as plt   # plotting\n",
    "import ipywidgets as widgets      # interactive widgets\n"
   ]
  },
  {
   "cell_type": "markdown",
   "metadata": {
    "slideshow": {
     "slide_type": "slide"
    }
   },
   "source": [
    "## Other useful libraries\n",
    "\n",
    "- [SciPy](https://www.scipy.org): Wide range of tools scientific computing\n",
    "- [StatsModels](https://www.statsmodels.org/stable/index.html): Many statistics\n",
    "- [NiLearn](https://nilearn.github.io): Machine learning of neuroimaging data\n",
    "- [Numba](http://numba.pydata.org): Just-in-time compiler to speed up Python\n",
    "- [PlotNine](https://plotnine.readthedocs.io/en/stable/): Port of ggplot2 to Python\n",
    "- [Seaborn](https://seaborn.pydata.org): Statistical data visualization"
   ]
  },
  {
   "cell_type": "markdown",
   "metadata": {
    "slideshow": {
     "slide_type": "slide"
    }
   },
   "source": [
    "## Some libraries from my lab\n",
    "\n",
    "- [SMILE](https://github.com/compmem/SMILE): A library for writing Psychology/Neuroscience experiments in Python.\n",
    "- [RunDEMC](https://github.com/compmem/RunDEMC): Library for running DEMC on hierarchical models.\n",
    "- [PTSA](https://github.com/compmem/ptsa): Short for Python Time Series Analysis, this library aids in analysis of EEG and other forms of neural data represented as time series."
   ]
  },
  {
   "cell_type": "code",
   "execution_count": null,
   "metadata": {
    "slideshow": {
     "slide_type": "slide"
    }
   },
   "outputs": [],
   "source": [
    "# get some random data\n",
    "dat = np.random.randn(1000, 10)"
   ]
  },
  {
   "cell_type": "code",
   "execution_count": null,
   "metadata": {
    "slideshow": {
     "slide_type": "slide"
    }
   },
   "outputs": [],
   "source": [
    "%%timeit\n",
    "# calculate the mean of each column\n",
    "mdat = []\n",
    "for i in range(len(dat)):\n",
    "    mdat.append(sum(dat[i])/len(dat[i]))\n"
   ]
  },
  {
   "cell_type": "code",
   "execution_count": null,
   "metadata": {
    "slideshow": {
     "slide_type": "slide"
    }
   },
   "outputs": [],
   "source": [
    "%%timeit\n",
    "# numpy can help us do things like this much faster\n",
    "mdat = dat.mean(0)"
   ]
  },
  {
   "cell_type": "code",
   "execution_count": null,
   "metadata": {
    "slideshow": {
     "slide_type": "slide"
    }
   },
   "outputs": [],
   "source": [
    "# sample some normally-distributed random numbers\n",
    "x = np.random.randn(10000)\n",
    "\n",
    "# plot a histogram of them\n",
    "plt.hist(x, bins='auto');              # the ; suppresses the printout of the return values"
   ]
  },
  {
   "cell_type": "code",
   "execution_count": null,
   "metadata": {
    "slideshow": {
     "slide_type": "slide"
    }
   },
   "outputs": [],
   "source": [
    "# you can even have interactive widgets!\n",
    "def f(x):\n",
    "    print(x)\n",
    "widgets.interact(f, x=10);"
   ]
  },
  {
   "cell_type": "markdown",
   "metadata": {
    "slideshow": {
     "slide_type": "slide"
    }
   },
   "source": [
    "## Why do we use Anaconda?\n",
    "\n",
    "![](https://imgs.xkcd.com/comics/python_environment.png)"
   ]
  },
  {
   "cell_type": "markdown",
   "metadata": {
    "slideshow": {
     "slide_type": "slide"
    }
   },
   "source": [
    "## Why do we use Anaconda?\n",
    "\n",
    "1. Relatively easy to install and well-supported\n",
    "    - Can be installed with GUI or command line\n",
    "    - Easy to find solutions to installation or runtime problems online\n",
    "2. Allows you to create virtual environments\n",
    "    - Essential when packages share dependencies but require different versions of the same package\n",
    "3. Has a powerful dependency solver\n",
    "    - Will upgrade/downgrade your packages as needed when you install a new package\n",
    "4. Development team maintains a core scientific stack (numpy, scipy, matplotlib, etc.)\n",
    "    - Takes pressure off the user to determine if their scientific packages are working as expected\n",
    "    - More resources for troubleshooting\n",
    "5. Has a highly customizable and user-friendly interactive python shell\n",
    "    - Can be easier to test code quickly in an interactive shell than by running a script and waiting for output\n",
    "    - Crucial for visualization of data and results\n",
    "6. Makes programming much easier on windows\n",
    "    - No need to worry about system variables"
   ]
  },
  {
   "cell_type": "markdown",
   "metadata": {
    "slideshow": {
     "slide_type": "slide"
    }
   },
   "source": [
    "## Installing Anaconda\n",
    "\n",
    "Follow the instructions to download and install Anaconda on this website:\n",
    "\n",
    "https://docs.anaconda.com/anaconda/install/\n",
    "\n",
    "- Make sure to follow the instructions specific to your operating system!\n",
    "- Each operating system works differently, so the Anaconda team has designed installation software specifically\n",
    "  tailored for each operating system"
   ]
  },
  {
   "cell_type": "markdown",
   "metadata": {
    "slideshow": {
     "slide_type": "slide"
    }
   },
   "source": [
    "## First Assignments!!!\n",
    "\n",
    "- Find the assignment on UVACollab page for this course. In short, you should complete the introductory Python modules at [Software Carpentry](http://swcarpentry.github.io/python-novice-inflammation/) inside a Jupyter notebook and then upload the notebook, saved as an html file.\n",
    "- Look for an email about joining our Slack workspace and join!\n",
    "\n",
    "You will receive ***points*** for the participation/homework grade by finishing these two tasks!\n",
    "\n",
    "### See you next week!!!"
   ]
  }
 ],
 "metadata": {
  "celltoolbar": "Slideshow",
  "kernelspec": {
   "display_name": "Python 3",
   "language": "python",
   "name": "python3"
  },
  "language_info": {
   "codemirror_mode": {
    "name": "ipython",
    "version": 3
   },
   "file_extension": ".py",
   "mimetype": "text/x-python",
   "name": "python",
   "nbconvert_exporter": "python",
   "pygments_lexer": "ipython3",
   "version": "3.7.7"
  },
  "rise": {
   "scroll": true
  }
 },
 "nbformat": 4,
 "nbformat_minor": 2
}
