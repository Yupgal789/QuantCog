{
 "cells": [
  {
   "cell_type": "markdown",
   "metadata": {
    "slideshow": {
     "slide_type": "slide"
    }
   },
   "source": [
    "# Introduction to Quantified Cognition\n",
    "By: Per B. Sederberg, PhD\n",
    "\n",
    "<a href=\"https://colab.research.google.com/github/compmem/QuantCog/blob/2020_Spring/notebooks/01_Introduction.ipynb\"><img align=\"left\" src=\"https://colab.research.google.com/assets/colab-badge.svg\" alt=\"Open in Colab\" title=\"Open and Execute in Google Colaboratory\"></a>"
   ]
  },
  {
   "cell_type": "markdown",
   "metadata": {
    "slideshow": {
     "slide_type": "subslide"
    }
   },
   "source": [
    "## Why are we here?\n",
    "\n",
    "Much of science, and especially psychology and neuroscience, involves testing and updating verbal theories, which are often imprecise and under-specified. \n",
    "\n",
    "Only by quantitative modeling of our experimental results can we hope to make significant progress in understanding the mechanisms that underlie cognition. \n",
    "\n",
    "Furthermore, only by quantifying and defining knowledge via mathematical principles can we achieve the effective interdisciplinary communication necessary for combining approaches to make useful progress towards understanding a system as complex as the brain. "
   ]
  },
  {
   "cell_type": "markdown",
   "metadata": {
    "slideshow": {
     "slide_type": "subslide"
    }
   },
   "source": [
    "## Course Aims\n",
    "\n",
    "Equip students with the skills to:\n",
    "\n",
    "a. think more deeply about the mechanisms underlying observed neural and behavioral phenomena, improving scientific thinking, and\n",
    "\n",
    "b. develop computational models that enable more precise, quantifiably testable, hypotheses, improving the scientific process. \n",
    "\n",
    "While the course will be taught at a high level, the goal is to provide practical hands-on examples for every topic, to lay the foundation necessary to understand, develop, and compare mechanistic models of cognition."
   ]
  },
  {
   "cell_type": "markdown",
   "metadata": {
    "slideshow": {
     "slide_type": "subslide"
    }
   },
   "source": [
    "## Schedule\n",
    "\n",
    "The following is the general order of the topics covered in the course. Please note that sometimes we may cover multiple topics in a single lecture, or spend more than one lecture on a single topic, and this list is subject to modification at any time. These will be replaced by links to specific lectures as they are finalized.\n",
    "\n",
    "0. Overview\n",
    "1. Programming and Principles of Open Science\n",
    "2. Probability\n",
    "3. Data as a Random Variable\n",
    "4. Quantifying Uncertainty\n",
    "5. Bayesian Regression\n",
    "6. Bayesian Data Analysis\n",
    "7. Cognitive Process Models\n",
    "8. Interactive Model Exploration\n",
    "9. Bayesian Fits of Process Models\n",
    "10. Inference with Process Models\n",
    "11. Bring Your Own Data (BYOD) Project\n",
    "\n"
   ]
  },
  {
   "cell_type": "markdown",
   "metadata": {
    "slideshow": {
     "slide_type": "subslide"
    }
   },
   "source": [
    "## Evaluation\n",
    "\n",
    "This is a graduate-level course, which means that much of the burden of staying motivated to learn is transferred to the student.\n",
    "\n",
    "- There will not be any in-class exams. \n",
    "- Your final grade will depend on class participation (60%)\n",
    "  - interactive problem solving\n",
    "  - homework\n",
    "  - presenting on or leading a discussion of a relevant paper. \n",
    "- And a final project involving a mechanistic data analysis and associated write-up (40%)\n"
   ]
  },
  {
   "cell_type": "markdown",
   "metadata": {
    "collapsed": true,
    "slideshow": {
     "slide_type": "subslide"
    }
   },
   "source": [
    "## GitHub\n",
    "\n",
    "All course material will be available on a public [GitHub](https://github.com/compmem/QuantCog) repository. \n",
    "\n",
    "There you will find the current version of the syllabus, all Jupyter Notebooks for the lessons, and any associated readings.\n",
    "\n",
    "I encourage you all to sign up for a GitHub account and make use of Git in your research.\n",
    "\n",
    "In fact, we will be making use of [Git](https://git-scm.com/) to manage code and assignments in this course. You should also work through the [Software Carpentry course on git](http://swcarpentry.github.io/git-novice/) as part of your first *homework*. \n",
    "\n"
   ]
  },
  {
   "cell_type": "markdown",
   "metadata": {
    "slideshow": {
     "slide_type": "subslide"
    }
   },
   "source": [
    "## Campuswire\n",
    "\n",
    "We will use [Campuswire](https://campuswire.com/c/G744D60D3/) for all class communication and discussions. \n",
    "\n",
    "Please do not email me unless there is an issue with Campuswire. If you'd prefer to have a one-on-one discussion it is possible to send direct messages in Campuswire.\n",
    "\n",
    "There will also be traditional office hours for in-person conversations.\n"
   ]
  },
  {
   "cell_type": "markdown",
   "metadata": {
    "slideshow": {
     "slide_type": "slide"
    }
   },
   "source": [
    "# Let's get started!"
   ]
  },
  {
   "cell_type": "markdown",
   "metadata": {
    "slideshow": {
     "slide_type": "slide"
    }
   },
   "source": [
    "## Python for Data Science\n",
    "\n",
    "If you do not have any experience with Python, you should complete the introductory Python modules at [Software Carpentry](http://swcarpentry.github.io/python-novice-inflammation/) as a *homework* assignment. \n",
    "\n",
    "This is a hands-on tutorial that introduces a slew of concepts for Python in Data Science. If you are already familiar with Python, I suggest you still read through each module because there is a lot of useful information in the lessons that you may not already know.\n",
    "\n",
    "*We will cover more on both Python and Git in the second class.*\n",
    "\n",
    "### A great book\n",
    "\n",
    "Most of the [*Python Data Science Handbook*](https://jakevdp.github.io/PythonDataScienceHandbook/) by Jake VanderPlas is excellent and relevant for this course, especially the first *four* chapters.\n",
    "\n",
    "### An entire course\n",
    "\n",
    "Finally, if you are feeling extremely ambitious, there is an entire set of [Python for Data Science course material](https://data.berkeley.edu/education/courses/data-8) from the University of California at Berkeley."
   ]
  },
  {
   "cell_type": "markdown",
   "metadata": {
    "slideshow": {
     "slide_type": "slide"
    }
   },
   "source": [
    "## Anaconda Python\n",
    "\n",
    "Everything you need for this class is available as part of the [Anaconda Python](https://www.anaconda.com/download/) distribution, which is available for OSX, Windows, and Linux. \n",
    "\n",
    "If you plan on working locally (and not on Google Colab), spend some time before next class getting the Python 3 version of Anaconda up and running on your machine. I'll be happy to help over CampusWire and in class.\n"
   ]
  },
  {
   "cell_type": "markdown",
   "metadata": {
    "slideshow": {
     "slide_type": "slide"
    }
   },
   "source": [
    "## Jupyter Notebooks\n",
    "\n",
    "The core computational and interactive infrastructure for the entire class will be [Jupyter](https://jupyter.org) notebooks. They provide an interactive way of interspersing code, text, and graphics, akin to a dynamic electronic lab notebook. \n",
    "\n",
    "Jupyter notebooks are *VERY* powerful, and have many useful extensions (for example, this presentation is an live and editable rendering of a Jupyter notebook!)"
   ]
  },
  {
   "cell_type": "markdown",
   "metadata": {},
   "source": [
    "### A quick tour of Jupyter notebook features...\n",
    "\n",
    "- Client/Server architecture\n",
    "- Cells of code/text\n",
    "- HTML-based front-end\n",
    "- Cell output can be tables and (interactive) graphics"
   ]
  },
  {
   "cell_type": "markdown",
   "metadata": {
    "slideshow": {
     "slide_type": "slide"
    }
   },
   "source": [
    "Markdown cells can have fancy formatting:\n",
    "\n",
    "- Headings with #, ##, ###, etc...\n",
    "- *italics*\n",
    "- **bold**\n",
    "- Inline equations like $t_i = \\rho t_{i-1} + (1 - \\rho)f_i$\n",
    "- Or a full equation on its on line:\n",
    "\n",
    "  $$\\frac{dx}{dt} = \\frac{(\\rho - \\kappa x)}{\\tau}$$\n",
    "- Images:\n",
    "  ![](https://jupyter.org/assets/main-logo.svg)\n",
    "- Tables:\n",
    "\n",
    "| This | is   |\n",
    "|------|------|\n",
    "|   a  | table|"
   ]
  },
  {
   "cell_type": "code",
   "execution_count": null,
   "metadata": {
    "slideshow": {
     "slide_type": "slide"
    }
   },
   "outputs": [],
   "source": [
    "# Best practice is to put imports and settings at the top\n",
    "\n",
    "# load matplotlib in inline mode (you can use notebook if you are running local)\n",
    "%matplotlib inline\n",
    "\n",
    "# import some useful libraries\n",
    "import numpy as np                # numerical analysis linear algebra\n",
    "import pandas as pd               # efficient tables\n",
    "import matplotlib.pyplot as plt   # plotting\n",
    "import ipywidgets as widgets      # interactive widgets\n"
   ]
  },
  {
   "cell_type": "markdown",
   "metadata": {
    "slideshow": {
     "slide_type": "slide"
    }
   },
   "source": [
    "## Other useful libraries\n",
    "\n",
    "- [SciPy](https://www.scipy.org): Wide range of tools scientific computing\n",
    "- [StatsModels](https://www.statsmodels.org/stable/index.html): Many statistics\n",
    "- [NiLearn](https://nilearn.github.io): Machine learning of neuroimaging data\n",
    "- [Numba](http://numba.pydata.org): Just-in-time compiler to speed up Python\n",
    "- [PlotNine](https://plotnine.readthedocs.io/en/stable/): Port of ggplot2 to Python\n",
    "- [Seaborn](https://seaborn.pydata.org): Statistical data visualization"
   ]
  },
  {
   "cell_type": "markdown",
   "metadata": {
    "slideshow": {
     "slide_type": "slide"
    }
   },
   "source": [
    "## Some libraries from my lab\n",
    "\n",
    "- [SMILE](https://github.com/compmem/SMILE): A library for writing Psychology/Neuroscience experiments in Python.\n",
    "- [RunDEMC](https://github.com/compmem/RunDEMC): Library for running DEMC on hierarchical models.\n",
    "- [PTSA](https://github.com/compmem/ptsa): Short for Python Time Series Analysis, this library aids in analysis of EEG and other forms of neural data represented as time series."
   ]
  },
  {
   "cell_type": "code",
   "execution_count": null,
   "metadata": {
    "slideshow": {
     "slide_type": "slide"
    }
   },
   "outputs": [],
   "source": [
    "# get some random data\n",
    "dat = np.random.randn(1000, 10)"
   ]
  },
  {
   "cell_type": "code",
   "execution_count": null,
   "metadata": {
    "slideshow": {
     "slide_type": "subslide"
    }
   },
   "outputs": [],
   "source": [
    "# %%timeit\n",
    "# calculate the mean of each column\n",
    "mdat = []\n",
    "for i in range(len(dat)):\n",
    "    mdat.append(sum(dat[i])/len(dat[i]))\n"
   ]
  },
  {
   "cell_type": "code",
   "execution_count": null,
   "metadata": {
    "slideshow": {
     "slide_type": "subslide"
    }
   },
   "outputs": [],
   "source": [
    "# %%timeit\n",
    "# numpy can help us do things like this much faster\n",
    "mdat = dat.mean(0)"
   ]
  },
  {
   "cell_type": "code",
   "execution_count": null,
   "metadata": {
    "slideshow": {
     "slide_type": "slide"
    }
   },
   "outputs": [],
   "source": [
    "# sample some normally-distributed random numbers\n",
    "x = np.random.randn(100)\n",
    "\n",
    "# plot a histogram of them\n",
    "plt.hist(x, bins='auto');              # the ; suppresses the printout of the return values"
   ]
  },
  {
   "cell_type": "code",
   "execution_count": null,
   "metadata": {
    "slideshow": {
     "slide_type": "slide"
    }
   },
   "outputs": [],
   "source": [
    "# you can even have interactive widgets!\n",
    "def f(x):\n",
    "    print(x)\n",
    "widgets.interact(f, x=10);"
   ]
  },
  {
   "cell_type": "markdown",
   "metadata": {
    "slideshow": {
     "slide_type": "slide"
    }
   },
   "source": [
    "## Time to take a Turing Tumble!\n",
    "\n",
    "What does it mean to gain a mechanistic understanding of an underlying process?\n",
    "\n",
    "See the [Turing Tumble website](https://www.turingtumble.com/edu/) for online simulators.\n"
   ]
  }
 ],
 "metadata": {
  "celltoolbar": "Slideshow",
  "kernelspec": {
   "display_name": "Python 3",
   "language": "python",
   "name": "python3"
  },
  "language_info": {
   "codemirror_mode": {
    "name": "ipython",
    "version": 3
   },
   "file_extension": ".py",
   "mimetype": "text/x-python",
   "name": "python",
   "nbconvert_exporter": "python",
   "pygments_lexer": "ipython3",
   "version": "3.6.8"
  },
  "rise": {
   "scroll": true
  }
 },
 "nbformat": 4,
 "nbformat_minor": 2
}
