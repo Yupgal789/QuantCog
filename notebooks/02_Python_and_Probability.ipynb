{
 "cells": [
  {
   "cell_type": "markdown",
   "metadata": {
    "slideshow": {
     "slide_type": "slide"
    }
   },
   "source": [
    "# Git, Python, and Probability Primer\n",
    "## Introduction to Quantified Cognition\n",
    "By: Per B. Sederberg, PhD\n",
    "\n",
    "<a href=\"https://colab.research.google.com/github/compmem/QuantCog/blob/2020_Spring/notebooks/02_Python_and_Probability.ipynb\"><img align=\"left\" src=\"https://colab.research.google.com/assets/colab-badge.svg\" alt=\"Open in Colab\" title=\"Open and Execute in Google Colaboratory\"></a>"
   ]
  },
  {
   "cell_type": "markdown",
   "metadata": {
    "slideshow": {
     "slide_type": "slide"
    }
   },
   "source": [
    "*Note: If you are brand new to Python, you should have reviewed for homework some of the suggested introductions from the first class.*\n",
    "\n",
    "It's not too late!\n",
    "\n",
    "https://github.com/compmem/QuantCog"
   ]
  },
  {
   "cell_type": "markdown",
   "metadata": {
    "slideshow": {
     "slide_type": "slide"
    }
   },
   "source": [
    "## Git and GitHub\n",
    "\n",
    "[Git](https://git-scm.com/) is a distributed version control system.\n",
    "\n",
    "[GitHub](https://github.com/) is a website that allows for sharing repositories created and managed with Git."
   ]
  },
  {
   "cell_type": "markdown",
   "metadata": {
    "slideshow": {
     "slide_type": "slide"
    }
   },
   "source": [
    "## Quick Git Demo\n",
    "\n",
    "Let's open up a terminal and try some git!\n",
    "\n",
    "1. Create a repo\n",
    "2. Add/Modify a file\n",
    "3. Commit the file\n",
    "4. Repeat steps 2 and 3"
   ]
  },
  {
   "cell_type": "markdown",
   "metadata": {
    "slideshow": {
     "slide_type": "slide"
    }
   },
   "source": [
    "## Jupyter Notebooks\n",
    "\n",
    "[Jupyter](https://jupyter.org/) notebooks provide an interactive tool for creating documents with code, visualizations, and narrative.\n",
    "\n",
    "It's like a computerized lab notebook for all your analyses."
   ]
  },
  {
   "cell_type": "markdown",
   "metadata": {
    "slideshow": {
     "slide_type": "slide"
    }
   },
   "source": [
    "## Quick Jupyter Demo\n",
    "\n",
    "Colab vs. local (via Anaconda)"
   ]
  },
  {
   "cell_type": "markdown",
   "metadata": {
    "slideshow": {
     "slide_type": "slide"
    }
   },
   "source": [
    "## A short intro to Python\n",
    "\n",
    "The Python programming language was invented by Guido van Rossum, who just recently stepped down as benevelont dictator for life to be replaced by an elected steering committee. \n",
    "\n",
    "Python has a set of core principles provided by the Zen of Python, which are available within Python, itself (so Zen, right?!):"
   ]
  },
  {
   "cell_type": "code",
   "execution_count": null,
   "metadata": {
    "slideshow": {
     "slide_type": "slide"
    }
   },
   "outputs": [],
   "source": [
    "import this"
   ]
  },
  {
   "cell_type": "markdown",
   "metadata": {
    "slideshow": {
     "slide_type": "slide"
    }
   },
   "source": [
    "## Python can do pretty much anything we need\n",
    "\n",
    "- Write programs to run experiments\n",
    "\n",
    "- Computational modeling (cognitive models, neural networks, simulation studies)\n",
    "\n",
    "- Data processing from start to finish\n",
    "\n",
    "  - Reading and parsing log files\n",
    "  \n",
    "  - Data preprocessing (esp, important for EEG and fMRI) and filtering\n",
    "  \n",
    "  - Statistical analyses\n",
    "\n",
    "- Produce papers, presentations, websites...\n",
    "\n",
    "- Just about anything else you can think of\n",
    "\n",
    "  - Games, graphics, audio apps, even cell phone and tablet apps\n"
   ]
  },
  {
   "cell_type": "markdown",
   "metadata": {
    "slideshow": {
     "slide_type": "slide"
    }
   },
   "source": [
    "## Objects everywhere!\n",
    "\n",
    "Python is an object-oriented language and supports (though does not require) an object-oriented programming model. This simply means it makes it easy to create new objects, inheriting features from other objects."
   ]
  },
  {
   "cell_type": "markdown",
   "metadata": {
    "slideshow": {
     "slide_type": "slide"
    }
   },
   "source": [
    "## What is an object?\n",
    "\n",
    "Everything (yes, everything) in Python is an object (or an instance of an object), which is really useful!\n",
    "\n",
    "- Objects have *attributes* that tell us about that object instance\n",
    "- Objects can have *methods* that a functions that object can perform\n"
   ]
  },
  {
   "cell_type": "markdown",
   "metadata": {
    "slideshow": {
     "slide_type": "slide"
    }
   },
   "source": [
    "## What is an instance?\n",
    "\n",
    "When you initialize an object, you create an *instance* of it, taking up memory in the computer. \n",
    "\n",
    "Thus, any variable we define is simply pointing the variable's name (in the current namespace) to a chunk of memory containing the instance of that object.\n",
    "\n",
    "Python keeps track of all object instances and cleans them when they are no longer needed."
   ]
  },
  {
   "cell_type": "code",
   "execution_count": null,
   "metadata": {
    "slideshow": {
     "slide_type": "slide"
    }
   },
   "outputs": [],
   "source": [
    "# let's make an int object instance\n",
    "x = 42\n",
    "type(x)"
   ]
  },
  {
   "cell_type": "code",
   "execution_count": null,
   "metadata": {},
   "outputs": [],
   "source": [
    "# let's explore x\n",
    "# (press tab after x.<tab>)\n"
   ]
  },
  {
   "cell_type": "code",
   "execution_count": null,
   "metadata": {
    "slideshow": {
     "slide_type": "slide"
    }
   },
   "outputs": [],
   "source": [
    "y = 'The answer to the ultimate question.'\n",
    "type(y)"
   ]
  },
  {
   "cell_type": "code",
   "execution_count": null,
   "metadata": {},
   "outputs": [],
   "source": [
    "# let's explore y\n",
    "# (press tab after y.<tab>)\n"
   ]
  },
  {
   "cell_type": "markdown",
   "metadata": {
    "slideshow": {
     "slide_type": "slide"
    }
   },
   "source": [
    "## A bit about namespaces\n",
    "\n",
    "It's usually a very good idea to keep a clean namespace. Given that Python is designed to be highly *extensible*, the base functionality is small and there are tons of useful modules (i.e., libraries) you can import. \n",
    "\n",
    "Most have naming conventions that help you keep track of where your methods are coming from:\n",
    "\n",
    "```python\n",
    "import numpy as np\n",
    "```\n",
    "and not\n",
    "```python\n",
    "import * from numpy\n",
    "```"
   ]
  },
  {
   "cell_type": "markdown",
   "metadata": {
    "slideshow": {
     "slide_type": "slide"
    }
   },
   "source": [
    "## Basics of Probability\n",
    "\n",
    "\n",
    "\n",
    "### A   \n",
    "$P(A) \\in [0, 1]$\n",
    "\n",
    "### not A\n",
    "$1 - P(A)$\n",
    "\n",
    "### A or B \n",
    "$P(A \\cup B) = P(A) + P(B) - P(A \\cap B)$ or <br> $P(A \\cup B) = P(A) + P(B)$ if A and B are mutually exclusive\n",
    "\n",
    "### A and B\n",
    "$P(A \\cap B) = P(A \\mid B) P(B) = P(B \\mid A) P(A)$ or <br> $P(A \\cap B) = P(A) P(B)$ if A and B are independent\n",
    "\n",
    "### A given B \n",
    "$P(A \\mid B) = \\frac{P(A \\cap B)}{P(B)} = \\frac{P(B \\mid A) P(A)}{P(B)}$\n",
    "\n",
    "\n",
    "\n",
    "\n"
   ]
  },
  {
   "cell_type": "markdown",
   "metadata": {
    "slideshow": {
     "slide_type": "slide"
    }
   },
   "source": [
    "## Simple examples\n",
    "\n",
    "Using the table above, let's try and figure out the probabilities of the following:\n",
    "\n",
    "1. Rolling a 5 on a 6-sided die.\n",
    "2. Not rolling a 3 on a 6-sided die.\n",
    "3. Rolling a 4 or a 5 on a 6-sided die.\n",
    "4. Rolling less than 4 or an even number on a 6-sided die.\n",
    "5. Rolling two 3's in a row on a 6-sided die.\n"
   ]
  },
  {
   "cell_type": "markdown",
   "metadata": {
    "slideshow": {
     "slide_type": "slide"
    }
   },
   "source": [
    "## Harder question\n",
    "\n",
    "### The case of Tim Tebow\n",
    "\n",
    "What is the probability of becoming a Major League Baseball (MLB) player if you hit a home run (HR) in your first at-bat in the minor leagues? We have the following important information:\n",
    "\n",
    "a) 0.5% of future MLB players hit a home run in their first minor league at-bat.\n",
    "\n",
    "b) 1% of minor league players make it to MLB.\n",
    "\n",
    "c) Only 0.1% of players hit a homerun in their first minor league at-bat.\n",
    "\n",
    "Hint: You are trying to solve $P(MLB \\mid HR)$.\n",
    "\n",
    "*Bonus*: What additional information do we need to know in order to calculate the probability a player doesn't make it to MLB, but hit a home run in their first minor league at bat?"
   ]
  },
  {
   "cell_type": "markdown",
   "metadata": {
    "slideshow": {
     "slide_type": "slide"
    }
   },
   "source": [
    "## Probability Distributions\n",
    "\n",
    "At the core of probability theory are the mathematical functions determining the probability of the potential outcomes of an experiment. \n",
    "\n",
    "In statistics, these distributions represent the models that attempt to describe the observed data. The equations take in parameters that determine the shape of the probability distributions.\n",
    "\n",
    "Let's explore some continuous and discrete probability distributions relevant to quantifying data and models!!!"
   ]
  },
  {
   "cell_type": "markdown",
   "metadata": {
    "slideshow": {
     "slide_type": "slide"
    }
   },
   "source": [
    "## *ONLY* if on Google Colab\n"
   ]
  },
  {
   "cell_type": "code",
   "execution_count": null,
   "metadata": {},
   "outputs": [],
   "source": [
    "# to retrieve the dists.py file\n",
    "!wget https://raw.githubusercontent.com/compmem/QuantCog/2020_Spring/notebooks/dists.py"
   ]
  },
  {
   "cell_type": "markdown",
   "metadata": {
    "slideshow": {
     "slide_type": "slide"
    }
   },
   "source": [
    "## Exploring probability distributions"
   ]
  },
  {
   "cell_type": "code",
   "execution_count": null,
   "metadata": {
    "slideshow": {
     "slide_type": "slide"
    }
   },
   "outputs": [],
   "source": [
    "# load matplotlib inline mode\n",
    "%matplotlib inline\n",
    "\n",
    "# import some useful libraries\n",
    "import numpy as np                # numerical analysis linear algebra\n",
    "import pandas as pd               # efficient tables\n",
    "import matplotlib.pyplot as plt   # plotting\n",
    "import ipywidgets as widgets      # interactive widgets\n",
    "\n",
    "# local code wrapping scipy distributions\n",
    "import dists"
   ]
  },
  {
   "cell_type": "code",
   "execution_count": null,
   "metadata": {},
   "outputs": [],
   "source": [
    "# function to help plot a PDF\n",
    "def plot_pdf(dist, support=[-5, 5], npoints=100):\n",
    "    # set a range of linearly-spaced points\n",
    "    x = np.linspace(support[0], support[1], npoints)\n",
    "    \n",
    "    # evaluate the pdf at those points\n",
    "    pdf = dist.pdf(x)\n",
    "    \n",
    "    # plot the results\n",
    "    plt.plot(x, pdf, lw=3)\n",
    "    plt.xlabel('Value')\n",
    "    plt.ylabel('Probability')"
   ]
  },
  {
   "cell_type": "markdown",
   "metadata": {
    "slideshow": {
     "slide_type": "slide"
    }
   },
   "source": [
    "### [Uniform](https://en.wikipedia.org/wiki/Uniform_distribution_(continuous))\n",
    "\n",
    "A continuous probability distribution assigning equal probability over a range.\n",
    "\n",
    "What happens when we change the range?\n"
   ]
  },
  {
   "cell_type": "code",
   "execution_count": null,
   "metadata": {
    "scrolled": false
   },
   "outputs": [],
   "source": [
    "# plot the PDF\n",
    "plot_pdf(dists.uniform(lower=-2, upper=2))\n",
    "plot_pdf(dists.uniform(lower=-1, upper=1))\n"
   ]
  },
  {
   "cell_type": "markdown",
   "metadata": {
    "slideshow": {
     "slide_type": "slide"
    }
   },
   "source": [
    "### [Normal/Gaussian distribution](https://en.wikipedia.org/wiki/Normal_distribution)\n",
    "\n",
    "Important in statistics due to the Central Limit Theorem."
   ]
  },
  {
   "cell_type": "code",
   "execution_count": null,
   "metadata": {},
   "outputs": [],
   "source": [
    "# plot the PDF\n",
    "plot_pdf(dists.normal(mean=0, std=1))\n",
    "plot_pdf(dists.normal(mean=1, std=2), support=[-5, 10])\n"
   ]
  },
  {
   "cell_type": "markdown",
   "metadata": {
    "slideshow": {
     "slide_type": "slide"
    }
   },
   "source": [
    "### [Beta](https://en.wikipedia.org/wiki/Beta_distribution)\n",
    "\n",
    "Only has support between 0 and 1. Useful to help determine the probability of a probability.\n",
    "\n",
    "We'll spend some time with Beta distributions in subsequent classes."
   ]
  },
  {
   "cell_type": "code",
   "execution_count": null,
   "metadata": {},
   "outputs": [],
   "source": [
    "# plot the PDF\n",
    "plot_pdf(dists.beta(alpha=0.5, beta=0.5), support=[0,1])\n",
    "plot_pdf(dists.beta(alpha=2, beta=5), support=[0,1])\n",
    "plot_pdf(dists.beta(alpha=20, beta=10), support=[0,1])\n"
   ]
  },
  {
   "cell_type": "markdown",
   "metadata": {
    "slideshow": {
     "slide_type": "slide"
    }
   },
   "source": [
    "### [Gamma](https://en.wikipedia.org/wiki/Gamma_distribution)\n",
    "\n",
    "Only has positive support. \n",
    "\n",
    "Other common distributions are special cases of the Gamma distribution (e.g., Exponential, Chi-Square, etc...)"
   ]
  },
  {
   "cell_type": "code",
   "execution_count": null,
   "metadata": {},
   "outputs": [],
   "source": [
    "# Gamma Distribution\n",
    "plot_pdf(dists.gamma(alpha=0.5, beta=0.5), support=[-1,10])\n",
    "plot_pdf(dists.gamma(alpha=10.0, beta=5), support=[-1,10])"
   ]
  },
  {
   "cell_type": "markdown",
   "metadata": {
    "slideshow": {
     "slide_type": "slide"
    }
   },
   "source": [
    "### And more...\n",
    "\n",
    "Take some time now to explore:\n",
    "\n",
    "- Inverse Gamma\n",
    "- Exponential\n",
    "- Student's t\n",
    "- Half Cauchy\n",
    "\n",
    "Making note of how the parameters affect the shape of the distribution and the support.\n",
    "\n",
    "Refer to their respective pages on Wikipedia for additional information, and try to replicate the illustrative plots on those pages."
   ]
  }
 ],
 "metadata": {
  "celltoolbar": "Slideshow",
  "kernelspec": {
   "display_name": "Python 3",
   "language": "python",
   "name": "python3"
  },
  "language_info": {
   "codemirror_mode": {
    "name": "ipython",
    "version": 3
   },
   "file_extension": ".py",
   "mimetype": "text/x-python",
   "name": "python",
   "nbconvert_exporter": "python",
   "pygments_lexer": "ipython3",
   "version": "3.6.8"
  },
  "rise": {
   "scroll": true
  }
 },
 "nbformat": 4,
 "nbformat_minor": 2
}
