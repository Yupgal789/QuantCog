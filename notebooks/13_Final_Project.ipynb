{
 "cells": [
  {
   "cell_type": "markdown",
   "metadata": {
    "slideshow": {
     "slide_type": "slide"
    }
   },
   "source": [
    "# Lesson 13: Final Project\n",
    "\n",
    "## Intro to Quantified Cognition\n",
    "\n",
    "<a href=\"https://colab.research.google.com/github/compmem/QuantCog/blob/2020_Spring/notebooks/13_Final_Project.ipynb\"><img align=\"left\" src=\"https://colab.research.google.com/assets/colab-badge.svg\" alt=\"Open in Colab\" title=\"Open and Execute in Google Colaboratory\"></a>"
   ]
  },
  {
   "cell_type": "markdown",
   "metadata": {
    "slideshow": {
     "slide_type": "slide"
    }
   },
   "source": [
    "## Final Project\n",
    "\n",
    "- The goal of the final project is to demonstrate some application of some of the modeling tools we've discussed this semester. \n",
    "\n",
    "- Unless you are developing a novel theory, most mechanistic cognitive modeling involves making use of an existing model, which you then may tweak for your needs/hypotheses.\n",
    "\n",
    "- We've covered a handful of different cognitive models this semester, with code included in various Jupyter notebooks along the way, so you have a number of ready-made models at your disposal.\n",
    "\n",
    "- Below I list some options for this final project:"
   ]
  },
  {
   "cell_type": "markdown",
   "metadata": {},
   "source": [
    "## General Info\n",
    "\n",
    "- Please turn in the project in the form of a Jupyter notebook, along with any other files I might need to run the notebook. You don't need to send me the data files I provided to you, just if you used your own data/code.\n",
    "\n",
    "- Show all your work and include both code and text cells walking me through what you are doing.\n",
    "\n",
    "- It is due ***Friday, May 8th, 2020***. I selected this date because it's the last day of exams and I need to have final grades soon after that.\n",
    "\n",
    "- I will be available for meetings from now until it is due. Please email to schedule one.\n",
    "\n",
    "- Feel free to work together in teams of *up to a maximum of 3 people*, but make it *VERY CLEAR* on your Jupyter notebook submission who was part of the team so you can all get credit.\n",
    "\n",
    "- Please make use of other members of the class for help along the way."
   ]
  },
  {
   "cell_type": "markdown",
   "metadata": {
    "slideshow": {
     "slide_type": "slide"
    }
   },
   "source": [
    "## Option 0: Some analysis of your own data\n",
    "\n",
    "Many of you have datasets from your own research. Your project would entail performing some form of Bayesian or cognitive model-based analysis of those data. \n",
    "\n",
    "Note, it would be acceptable to use PyMC3 and build a Bayesian model to generate your data, as long as we have not performed the specific analysis already in class.\n",
    "\n",
    "You must include the following:\n",
    "\n",
    "- A short intro (a couple sentences) explaining the question you'll be asking (to frame the analysis)\n",
    "- Test some alternative model variants\n",
    "- Some form of model comparison (via Bayes Factor, BPIC, WAIC, etc...)\n",
    "- Show model fit (at least best-fitting params, but potentially posterior predictives)\n",
    "- Summary of findings"
   ]
  },
  {
   "cell_type": "markdown",
   "metadata": {
    "slideshow": {
     "slide_type": "slide"
    }
   },
   "source": [
    "## Option 1: Generating Model Contest\n",
    "\n",
    "Very often we have some data and our goal is to identify what model might have generated those data. For this project, I have generated three sets of data with two different decision models: WFPT and LBA. \n",
    "\n",
    "Your job is to fit models (and model varariants with and without some params free, such as between-trial variability in drift rate) to identify what models (and parameter values, as best fits or posteriors) were used to generate each set of data.\n",
    "\n",
    "This will require model comparison, via some method of your choosing (Bayes Factor, BPIC, WAIC, etc...).\n",
    "\n",
    "In your report, make it clear each model variant you are testing, what model you think generated each dataset (along with the posteriors or best-fitting parameters) for that model, and what evidence you are using to make your claim for the each winning model."
   ]
  },
  {
   "cell_type": "markdown",
   "metadata": {},
   "source": [
    "## Option 2: LBA Model Extension\n",
    "\n",
    "Extend LBA to include generation of a confidence value, in addition to just a choice and reaction time. One method of achieving this (though I'm open to other approaches as long as you justify them) is to assume that confidence is directly proportional to the level of activation for the accumulator with the winning choice relative to the sum of all the accumulator activations at that time. \n",
    "\n",
    "Intuitively, this approach makes some sense. If the selected choice has a high level of activation relative to the non-selected choice, then the confidence will be high (close to 1.0). On the other hand, if there is strong evidence for both choices and one just barely wins out over the other, then the ratio of the winning choice to all choices will be closer to .5 (for the two-choice case).\n",
    "\n",
    "To test whether this model is, indeed, making predictions that make sense, pick the variant of the LBA model that fit best to the speed--accuracy trade-off decision data (the one that allowed the drift rates to change between conditions) and perform the fit again with this new model. Even though you are not fitting to confidence, we can simulate the model with the best-fitting parameters and generate a distribution of confidence values for the speed condition and confidence values for the accuracy condition. \n",
    "\n",
    "Here are some questions to answer in your write-up:\n",
    "\n",
    "- Are people more confident in their correct answers in the accuracy condition than in the speeded condition? Does your result make sense?\n",
    "- Are the confidence values different for correct and incorrect answers? \n",
    "- What would happen to the confidence values (on average) if you added in a third option? (You could even take your best-fitting params and simply add in a third option to the inputs at either low or high levels of input to see what would happen.)"
   ]
  },
  {
   "cell_type": "markdown",
   "metadata": {},
   "source": [
    "## Option 3: Flanker Analysis\n",
    "\n",
    "While there have been full models of cognitive control proposed to account for the dynamics of the decision process in congruent vs. incongruent conditions, insight can be gained by fitting to these two conditions separately with a standard decision-making model.\n",
    "\n",
    "- Fit the WFPT or LBA model separately to the incongruent and congruent trials from the flanker task.\n",
    "- Decide what parameters should be kept constant between the two conditions and what parameters should be allowed to change.\n",
    "- Justify this decision (perhaps even via a model comparison).\n",
    "- Show fits of the best-fitting parameters (or posterior predictives) to the data.\n",
    "- Show full posteriors for the parameters and discuss whether they make sense.\n"
   ]
  },
  {
   "cell_type": "markdown",
   "metadata": {},
   "source": [
    "## Option 4: Apply the Successor Representation model to a new RL Problem\n",
    "\n",
    "In class we applied the successor representation (SR) to the Frozen Lake example provided by the OpenAI Gym (https://gym.openai.com/envs/FrozenLake8x8-v0/). We did not show a successful demonstration of the SR solving the problem when `slippery` was set to `True`. The issue there was that there was a *lot* of noise in the movements that came from adding the random variability. \n",
    "\n",
    "For this option, your task would be to apply the SR to an RL problem that we did not already solve. Some options would be:\n",
    "\n",
    "- The Frozen Lake example with the slippery option turned on. For this you'd likely need to modify the model to include more sources of variability or else the agent will get stuck exploiting a bad option.\n",
    "\n",
    "- Another one of the text-based environments on the OpenAI Gym: https://gym.openai.com/envs/#toy_text\n",
    "  The reason to use the text-based environments is that they have lower numbers of states that do not require deep convolutional networks to define. \n",
    "  \n",
    "- Some other problem that you propose. I'm happy to work with you to decide on another problem you'd like to apply the SR (or some other RL-model) to solve.\n",
    "\n",
    "In your write-up, be sure to clearly define your problem, how you assessed model performance (e.g., reward earned for each game, etc...), describe what changes you had to make to the parameters to attain the performance you did, and, optionally, explore the effect different model parameters have on performance."
   ]
  },
  {
   "cell_type": "markdown",
   "metadata": {},
   "source": [
    "## Option 5: Explore TCM model variants for the CatCR task\n",
    "\n",
    "For the example in class, I presented one model variant of a temporal context model (TCM) applied to the categorical continuous recognition (CatCR) data. There are a number of valid model variants that may or may not provide a better fit to the observed data.\n",
    "\n",
    "For this option, you would explore some of those model variants and perform a model comparison on one subject (Subject 10) that showed the interesting trend in the data we saw across participants. Some options include:\n",
    "\n",
    "- Changing how the sources of memory strength are calculated.\n",
    "- Trying variants of how distinctiveness is calculated.\n",
    "- Adding in a WFPT or LBA decision rule to replace the softmax (if you choose this one, it would be the only model you have to try, but bonus for comparing WFPT to LBA!)\n",
    "\n",
    "I will gladly meet with you to discuss interesting model variants to try out.\n",
    "\n",
    "In your write-up, be sure to describe the motivation for each model variant (i.e., what is the explicit mechanistic hypothesis you are testing?), and, where applicable, perform model comparisons. Include fits to the actual data (best-fitting parameters are fine, given that this model is slower to run.) "
   ]
  },
  {
   "cell_type": "markdown",
   "metadata": {
    "slideshow": {
     "slide_type": "slide"
    }
   },
   "source": [
    "## *ONLY* if on Google Colab"
   ]
  },
  {
   "cell_type": "code",
   "execution_count": null,
   "metadata": {},
   "outputs": [],
   "source": [
    "# to install RunDEMC\n",
    "!pip install git+https://github.com/compmem/RunDEMC.git\n"
   ]
  },
  {
   "cell_type": "code",
   "execution_count": null,
   "metadata": {},
   "outputs": [],
   "source": [
    "# to retrieve the data\n",
    "!wget https://raw.githubusercontent.com/compmem/QuantCog/2020_Spring/notebooks/decision_data.csv\n",
    "!wget https://raw.githubusercontent.com/compmem/QuantCog/2020_Spring/notebooks/contest_dataset_1.csv\n",
    "!wget https://raw.githubusercontent.com/compmem/QuantCog/2020_Spring/notebooks/contest_dataset_2.csv\n",
    "!wget https://raw.githubusercontent.com/compmem/QuantCog/2020_Spring/notebooks/contest_dataset_3.csv\n",
    "!wget https://raw.githubusercontent.com/compmem/QuantCog/2020_Spring/notebooks/flanker_s1.csv"
   ]
  },
  {
   "cell_type": "code",
   "execution_count": null,
   "metadata": {},
   "outputs": [],
   "source": [
    "# to retrieve the wfpt model\n",
    "!wget https://raw.githubusercontent.com/compmem/QuantCog/2020_Spring/notebooks/wfpt.py"
   ]
  },
  {
   "cell_type": "markdown",
   "metadata": {
    "slideshow": {
     "slide_type": "slide"
    }
   },
   "source": [
    "## Load and process the data"
   ]
  },
  {
   "cell_type": "code",
   "execution_count": 2,
   "metadata": {
    "slideshow": {
     "slide_type": "slide"
    }
   },
   "outputs": [],
   "source": [
    "# load matplotlib inline mode\n",
    "%matplotlib inline\n",
    "\n",
    "# import some useful libraries\n",
    "import numpy as np                # numerical analysis linear algebra\n",
    "import pandas as pd               # efficient tables\n",
    "import matplotlib.pyplot as plt   # plotting\n",
    "from scipy import stats\n",
    "\n",
    "from RunDEMC.density import kdensity\n",
    "from RunDEMC import Model, Param, dists, calc_bpic, joint_plot\n",
    "\n",
    "from wfpt import wfpt_like, wfpt_gen\n"
   ]
  },
  {
   "cell_type": "markdown",
   "metadata": {},
   "source": [
    "## Let's look at the different datasets"
   ]
  },
  {
   "cell_type": "code",
   "execution_count": 3,
   "metadata": {},
   "outputs": [
    {
     "data": {
      "text/html": [
       "<div>\n",
       "<style scoped>\n",
       "    .dataframe tbody tr th:only-of-type {\n",
       "        vertical-align: middle;\n",
       "    }\n",
       "\n",
       "    .dataframe tbody tr th {\n",
       "        vertical-align: top;\n",
       "    }\n",
       "\n",
       "    .dataframe thead th {\n",
       "        text-align: right;\n",
       "    }\n",
       "</style>\n",
       "<table border=\"1\" class=\"dataframe\">\n",
       "  <thead>\n",
       "    <tr style=\"text-align: right;\">\n",
       "      <th></th>\n",
       "      <th>correct</th>\n",
       "      <th>rt</th>\n",
       "      <th>cond</th>\n",
       "      <th>log_rt</th>\n",
       "      <th>rt_acc</th>\n",
       "    </tr>\n",
       "  </thead>\n",
       "  <tbody>\n",
       "    <tr>\n",
       "      <th>3</th>\n",
       "      <td>1</td>\n",
       "      <td>0.4784</td>\n",
       "      <td>Accuracy</td>\n",
       "      <td>-0.737308</td>\n",
       "      <td>0.4784</td>\n",
       "    </tr>\n",
       "    <tr>\n",
       "      <th>4</th>\n",
       "      <td>1</td>\n",
       "      <td>0.4300</td>\n",
       "      <td>Accuracy</td>\n",
       "      <td>-0.843970</td>\n",
       "      <td>0.4300</td>\n",
       "    </tr>\n",
       "    <tr>\n",
       "      <th>5</th>\n",
       "      <td>1</td>\n",
       "      <td>0.4486</td>\n",
       "      <td>Accuracy</td>\n",
       "      <td>-0.801624</td>\n",
       "      <td>0.4486</td>\n",
       "    </tr>\n",
       "    <tr>\n",
       "      <th>6</th>\n",
       "      <td>1</td>\n",
       "      <td>0.3991</td>\n",
       "      <td>Speed</td>\n",
       "      <td>-0.918543</td>\n",
       "      <td>0.3991</td>\n",
       "    </tr>\n",
       "    <tr>\n",
       "      <th>8</th>\n",
       "      <td>1</td>\n",
       "      <td>0.4393</td>\n",
       "      <td>Accuracy</td>\n",
       "      <td>-0.822573</td>\n",
       "      <td>0.4393</td>\n",
       "    </tr>\n",
       "  </tbody>\n",
       "</table>\n",
       "</div>"
      ],
      "text/plain": [
       "   correct      rt      cond    log_rt  rt_acc\n",
       "3        1  0.4784  Accuracy -0.737308  0.4784\n",
       "4        1  0.4300  Accuracy -0.843970  0.4300\n",
       "5        1  0.4486  Accuracy -0.801624  0.4486\n",
       "6        1  0.3991     Speed -0.918543  0.3991\n",
       "8        1  0.4393  Accuracy -0.822573  0.4393"
      ]
     },
     "execution_count": 3,
     "metadata": {},
     "output_type": "execute_result"
    }
   ],
   "source": [
    "# load in the data\n",
    "dat = pd.read_csv('decision_data.csv', index_col=0)\n",
    "dat = dat[dat.cond != 'Neutral']\n",
    "dat['rt_acc'] = dat['rt']\n",
    "dat.loc[dat.correct==0,'rt_acc'] = -dat['rt']\n",
    "dat.head()"
   ]
  },
  {
   "cell_type": "code",
   "execution_count": 4,
   "metadata": {},
   "outputs": [
    {
     "data": {
      "text/html": [
       "<div>\n",
       "<style scoped>\n",
       "    .dataframe tbody tr th:only-of-type {\n",
       "        vertical-align: middle;\n",
       "    }\n",
       "\n",
       "    .dataframe tbody tr th {\n",
       "        vertical-align: top;\n",
       "    }\n",
       "\n",
       "    .dataframe thead th {\n",
       "        text-align: right;\n",
       "    }\n",
       "</style>\n",
       "<table border=\"1\" class=\"dataframe\">\n",
       "  <thead>\n",
       "    <tr style=\"text-align: right;\">\n",
       "      <th></th>\n",
       "      <th>cond</th>\n",
       "      <th>correct</th>\n",
       "      <th>rt</th>\n",
       "      <th>trial</th>\n",
       "    </tr>\n",
       "  </thead>\n",
       "  <tbody>\n",
       "    <tr>\n",
       "      <th>1</th>\n",
       "      <td>-</td>\n",
       "      <td>True</td>\n",
       "      <td>0.911576</td>\n",
       "      <td>1</td>\n",
       "    </tr>\n",
       "    <tr>\n",
       "      <th>2</th>\n",
       "      <td>-</td>\n",
       "      <td>True</td>\n",
       "      <td>0.512677</td>\n",
       "      <td>2</td>\n",
       "    </tr>\n",
       "    <tr>\n",
       "      <th>3</th>\n",
       "      <td>-</td>\n",
       "      <td>True</td>\n",
       "      <td>0.584308</td>\n",
       "      <td>3</td>\n",
       "    </tr>\n",
       "    <tr>\n",
       "      <th>4</th>\n",
       "      <td>+</td>\n",
       "      <td>True</td>\n",
       "      <td>0.461280</td>\n",
       "      <td>4</td>\n",
       "    </tr>\n",
       "    <tr>\n",
       "      <th>7</th>\n",
       "      <td>+</td>\n",
       "      <td>True</td>\n",
       "      <td>0.697124</td>\n",
       "      <td>5</td>\n",
       "    </tr>\n",
       "  </tbody>\n",
       "</table>\n",
       "</div>"
      ],
      "text/plain": [
       "  cond  correct        rt  trial\n",
       "1    -     True  0.911576      1\n",
       "2    -     True  0.512677      2\n",
       "3    -     True  0.584308      3\n",
       "4    +     True  0.461280      4\n",
       "7    +     True  0.697124      5"
      ]
     },
     "execution_count": 4,
     "metadata": {},
     "output_type": "execute_result"
    }
   ],
   "source": [
    "# load in the data\n",
    "dat = pd.read_csv('flanker_s1.csv', index_col=0)\n",
    "dat.head()"
   ]
  },
  {
   "cell_type": "code",
   "execution_count": 5,
   "metadata": {},
   "outputs": [
    {
     "data": {
      "image/png": "[encoded data removed]",
      "text/plain": [
       "<Figure size 864x432 with 2 Axes>"
      ]
     },
     "metadata": {
      "needs_background": "light"
     },
     "output_type": "display_data"
    }
   ],
   "source": [
    "plt.figure(figsize=(12,6))\n",
    "plt.subplot(1,2,1)\n",
    "plt.hist(dat.loc[(dat.cond=='-')&(dat.correct==True), 'rt'], \n",
    "         bins='auto', color='b', alpha=.3);\n",
    "plt.hist(dat.loc[(dat.cond=='-')&(dat.correct==False), 'rt'], \n",
    "         bins='auto', color='r', alpha=.3);\n",
    "plt.title('Incongruent')\n",
    "\n",
    "plt.subplot(1,2,2)\n",
    "plt.hist(dat.loc[(dat.cond=='+')&(dat.correct==True), 'rt'], \n",
    "         bins='auto', color='b', alpha=.3);\n",
    "plt.hist(dat.loc[(dat.cond=='+')&(dat.correct==False), 'rt'], \n",
    "         bins='auto', color='r', alpha=.3);\n",
    "plt.title('Congruent');"
   ]
  },
  {
   "cell_type": "code",
   "execution_count": 6,
   "metadata": {},
   "outputs": [
    {
     "data": {
      "text/html": [
       "<div>\n",
       "<style scoped>\n",
       "    .dataframe tbody tr th:only-of-type {\n",
       "        vertical-align: middle;\n",
       "    }\n",
       "\n",
       "    .dataframe tbody tr th {\n",
       "        vertical-align: top;\n",
       "    }\n",
       "\n",
       "    .dataframe thead th {\n",
       "        text-align: right;\n",
       "    }\n",
       "</style>\n",
       "<table border=\"1\" class=\"dataframe\">\n",
       "  <thead>\n",
       "    <tr style=\"text-align: right;\">\n",
       "      <th></th>\n",
       "      <th>choice</th>\n",
       "      <th>rt</th>\n",
       "    </tr>\n",
       "  </thead>\n",
       "  <tbody>\n",
       "    <tr>\n",
       "      <th>0</th>\n",
       "      <td>2</td>\n",
       "      <td>0.345026</td>\n",
       "    </tr>\n",
       "    <tr>\n",
       "      <th>1</th>\n",
       "      <td>2</td>\n",
       "      <td>0.530714</td>\n",
       "    </tr>\n",
       "    <tr>\n",
       "      <th>2</th>\n",
       "      <td>2</td>\n",
       "      <td>0.482694</td>\n",
       "    </tr>\n",
       "    <tr>\n",
       "      <th>3</th>\n",
       "      <td>2</td>\n",
       "      <td>0.634063</td>\n",
       "    </tr>\n",
       "    <tr>\n",
       "      <th>4</th>\n",
       "      <td>2</td>\n",
       "      <td>1.573274</td>\n",
       "    </tr>\n",
       "  </tbody>\n",
       "</table>\n",
       "</div>"
      ],
      "text/plain": [
       "   choice        rt\n",
       "0       2  0.345026\n",
       "1       2  0.530714\n",
       "2       2  0.482694\n",
       "3       2  0.634063\n",
       "4       2  1.573274"
      ]
     },
     "execution_count": 6,
     "metadata": {},
     "output_type": "execute_result"
    }
   ],
   "source": [
    "# load in the data\n",
    "d1 = pd.read_csv('contest_dataset_1.csv', index_col=0)\n",
    "d1.head()"
   ]
  },
  {
   "cell_type": "code",
   "execution_count": 7,
   "metadata": {},
   "outputs": [
    {
     "data": {
      "image/png": "[encoded data removed]",
      "text/plain": [
       "<Figure size 432x288 with 1 Axes>"
      ]
     },
     "metadata": {
      "needs_background": "light"
     },
     "output_type": "display_data"
    }
   ],
   "source": [
    "plt.hist(d1.loc[d1.choice==2, 'rt'], bins='auto', color='b', alpha=.3)\n",
    "plt.hist(d1.loc[d1.choice==1, 'rt'], bins='auto', color='r', alpha=.3);"
   ]
  },
  {
   "cell_type": "code",
   "execution_count": null,
   "metadata": {},
   "outputs": [],
   "source": []
  }
 ],
 "metadata": {
  "celltoolbar": "Slideshow",
  "kernelspec": {
   "display_name": "Python 3",
   "language": "python",
   "name": "python3"
  },
  "language_info": {
   "codemirror_mode": {
    "name": "ipython",
    "version": 3
   },
   "file_extension": ".py",
   "mimetype": "text/x-python",
   "name": "python",
   "nbconvert_exporter": "python",
   "pygments_lexer": "ipython3",
   "version": "3.7.6"
  },
  "rise": {
   "scroll": true
  }
 },
 "nbformat": 4,
 "nbformat_minor": 2
}
