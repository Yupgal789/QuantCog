{
 "cells": [
  {
   "cell_type": "markdown",
   "metadata": {},
   "source": [
    "# Assignment 1: Reading Data and Plotting\n",
    "## Quantified Cognition\n",
    "### Psychology 5332\n",
    "By: Per B. Sederberg, PhD\n"
   ]
  },
  {
   "cell_type": "markdown",
   "metadata": {},
   "source": [
    "# Objectives\n",
    "\n",
    "Upon completion of this assignment, the student will demonstrate the ability to:\n",
    "\n",
    "1. Use a Jupyter Notebook\n",
    "\n",
    "2. Load some common modules\n",
    "\n",
    "3. Read in data from a CSV file with Pandas\n",
    "\n",
    "4. Perform some simiple analyses of the data\n",
    "\n",
    "5. Plot some simple visualizations of the data\n"
   ]
  },
  {
   "cell_type": "markdown",
   "metadata": {},
   "source": [
    "# Assignment\n",
    "\n",
    "- Work through the Software Carpentry introduction here: https://swcarpentry.github.io/python-novice-inflammation/. Be sure to open a new Jupyter Notebook and type in \n",
    "  the examples as you work through the different sections. If you are relatively new to Python or feeling rusty, I strongly recommend going through all sections. \n",
    "\n",
    "- After you have worked through Software Carpentry tutorial, you will perform this assignment by writing code in *this notebook* (***after making a copy and renaming it to have your userid in the title --- e.g., A01_Data_Read_Plot_mst3k***).\n",
    "\n",
    "- In addition to this notebook, you will need to download the data from the same directory on GitHub. The file is decision_data.csv.\n",
    "\n",
    "- ***When you are done, save this notebook as HTML (`File -> Download as -> HTML`) and upload it to the matching assignment on UVACollab.***\n",
    "\n",
    "## HINTS\n",
    "\n",
    "- Be sure to comment your code\n",
    "- I have provided cells with general instructions for what they should contain.\n",
    "  "
   ]
  },
  {
   "cell_type": "markdown",
   "metadata": {},
   "source": [
    "# Name: (your name here)\n",
    "# User ID: (your userid here)"
   ]
  },
  {
   "cell_type": "code",
   "execution_count": null,
   "metadata": {},
   "outputs": [],
   "source": [
    "# Load in necessary modules\n",
    "    "
   ]
  },
  {
   "cell_type": "code",
   "execution_count": 1,
   "metadata": {},
   "outputs": [],
   "source": [
    "# Read in the data from the decision_data.csv file to a Pandas DataFrame\n",
    "# (This is data from a perceptual decision-making task, BTW)\n",
    "\n"
   ]
  },
  {
   "cell_type": "code",
   "execution_count": 3,
   "metadata": {},
   "outputs": [],
   "source": [
    "# Use the .head method of the DataFrame to show the first few lines of the file\n",
    "# The columns are:\n",
    "#   correct: whether they made a correct response (1=Correct, 0=Incorrect)\n",
    "#   rt: their reaction time in seconds\n",
    "#   cond: whether they were in a speeded, accuracy, or neutral condition\n",
    "#   log_rt: log-transformed reaction time\n"
   ]
  },
  {
   "cell_type": "code",
   "execution_count": null,
   "metadata": {},
   "outputs": [],
   "source": [
    "# Calculate the accuracy (proportion correct) for each condition\n",
    "# (HINT: loop over conditions and select the rows corresponding to the current\n",
    "#  condition, then determine the proportion of correct responses for those rows)\n"
   ]
  },
  {
   "cell_type": "code",
   "execution_count": 4,
   "metadata": {},
   "outputs": [],
   "source": [
    "# Calculate the mean reaction time for each condition\n"
   ]
  },
  {
   "cell_type": "code",
   "execution_count": null,
   "metadata": {},
   "outputs": [],
   "source": [
    "# Plot a histogram of the Speed condition reaction times\n",
    "\n",
    "# On the same figure, plot a histogram of the Accuracy condition reaction times\n",
    "\n",
    "# (HINT: See histogram example in the first lesson.)\n"
   ]
  }
 ],
 "metadata": {
  "kernelspec": {
   "display_name": "Python 3",
   "language": "python",
   "name": "python3"
  },
  "language_info": {
   "codemirror_mode": {
    "name": "ipython",
    "version": 3
   },
   "file_extension": ".py",
   "mimetype": "text/x-python",
   "name": "python",
   "nbconvert_exporter": "python",
   "pygments_lexer": "ipython3",
   "version": "3.7.7"
  }
 },
 "nbformat": 4,
 "nbformat_minor": 4
}
